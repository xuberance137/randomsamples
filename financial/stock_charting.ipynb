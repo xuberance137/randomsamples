{
 "cells": [
  {
   "cell_type": "code",
   "execution_count": null,
   "id": "19518d2b-db7c-44bc-a30d-68edcacb6190",
   "metadata": {},
   "outputs": [],
   "source": [
    "!pip install yfinance"
   ]
  },
  {
   "cell_type": "markdown",
   "id": "4019a6d2-7b7b-4665-9606-d7b69f00e453",
   "metadata": {},
   "source": [
    "# Collect the data"
   ]
  },
  {
   "cell_type": "code",
   "execution_count": null,
   "id": "80163673-3328-4041-8ed5-df82298f0acd",
   "metadata": {},
   "outputs": [],
   "source": [
    "import yfinance as yf\n",
    "\n",
    "# Define the stock tickers\n",
    "# for PE fund\n",
    "tickers = [\"APO\", \"BX\", \"BN\", \"KKR\", \"CG\", \"ARES\", \"OWL\", \"PAX\", \"SPY\", \"BRK-B\"] \n",
    "\n",
    "# for AI fund\n",
    "#tickers = [\"MSFT\", \"GOOG\", \"AMZN\", \"SNOW\", \"PLTR\", \"SPY\", \"BRK-B\"]\n",
    "\n",
    "MA_WINDOW = 30 #number of days for the moving average window\n",
    "START_DATE = \"2019-08-31\"\n",
    "END_DATE = \"2024-08-31\"\n",
    "\n",
    "# Download historical data for the last 5 years, including dividends\n",
    "data = yf.download(tickers, start=START_DATE, end=END_DATE, actions=True)['Adj Close']\n",
    "\n",
    "# Calculate the N-day moving average\n",
    "data_ma = data.rolling(window=MA_WINDOW).mean()\n",
    "\n",
    "# Normalize the data to start at 100 for easy comparison\n",
    "normalized_data_ma = data_ma / data_ma.iloc[0] * 100  # start normalization after the 7th day\n",
    "\n",
    "# Create the synthetic fund with the \"PEF\" ticker as an equally weighted average of the other tickers (excluding SPY)\n",
    "# Normalize the data to start at 100 for easy comparison\n",
    "normalized_data = data / data.iloc[0] * 100\n",
    "\n",
    "# Create the \"PEF\" ticker as an equally weighted portfolio at the start\n",
    "initial_weights = 1 / len(tickers[:-2])  # Exclude SPY and BRKB from the calculation\n",
    "pef_series = (normalized_data[tickers[:-2]] * initial_weights).sum(axis=1)\n",
    "\n",
    "# Calculate the N-day moving average for all stocks including \"PEF\"\n",
    "normalized_data_ma[\"SYN-FUND1\"] = normalized_data_ma[tickers[:-2]].mean(axis=1) #\n",
    "normalized_data_ma[\"SYN-FUND2\"] = pef_series.rolling(window=MA_WINDOW).mean() #\n",
    "\n",
    "# Add BRKB to the tickers for plotting\n",
    "tickers_with_pef = tickers + [\"SYN-FUND1\", \"SYN-FUND2\"]"
   ]
  },
  {
   "cell_type": "code",
   "execution_count": null,
   "id": "12bf61dd-0f82-44b8-82bb-7f41f7881c18",
   "metadata": {},
   "outputs": [],
   "source": [
    "data_ma"
   ]
  },
  {
   "cell_type": "markdown",
   "id": "aedd72c0-620f-48db-8e8a-595de898d8ea",
   "metadata": {},
   "source": [
    "# Plot the data"
   ]
  },
  {
   "cell_type": "code",
   "execution_count": null,
   "id": "912059fa-181f-4676-a7c0-45dc4fd8c158",
   "metadata": {},
   "outputs": [],
   "source": [
    "import plotly.graph_objects as go\n",
    "\n",
    "# Create the plot\n",
    "fig = go.Figure()\n",
    "\n",
    "# Add traces for each stock\n",
    "for ticker in tickers:\n",
    "    fig.add_trace(go.Scatter(x=normalized_data_ma.index, \n",
    "                             y=normalized_data_ma[ticker],\n",
    "                             mode='lines', \n",
    "                             name=ticker))\n",
    "\n",
    "# Add the PEF trace with a dotted black line\n",
    "fig.add_trace(go.Scatter(x=normalized_data_ma.index, \n",
    "                         y=normalized_data_ma[\"SYN-FUND1\"],\n",
    "                         mode='lines', \n",
    "                         name=\"SYN-FUND1\", \n",
    "                         line=dict(color='black', width=4, dash='dot')))\n",
    "\n",
    "fig.add_trace(go.Scatter(x=normalized_data_ma.index, \n",
    "                         y=normalized_data_ma[\"SYN-FUND2\"],\n",
    "                         mode='lines', \n",
    "                         name=\"SYN-FUND2\", \n",
    "                         line=dict(color='grey', width=4, dash='dot')))\n",
    "\n",
    "# Customize the layout\n",
    "fig.update_layout(\n",
    "    title=\"Performance of Selected Stocks Including Dividends (\"+str(MA_WINDOW)+\"-Day Moving Average)\",\n",
    "    xaxis_title=\"Date\",\n",
    "    yaxis_title=\"Normalized Price (Starting at 100)\",\n",
    "    legend_title=\"Stocks\",\n",
    "    hovermode=\"x unified\",\n",
    "    width=1400,  # Set width to 14 inches (14 * 100 pixels per inch)\n",
    "    height=800,  # Set height to 8 inches (8 * 100 pixels per inch)\n",
    "    plot_bgcolor='white',  # Set the plot background to white\n",
    "    paper_bgcolor='white'  # Set the outer background to white\n",
    ")\n",
    "\n",
    "# Show the interactive plot\n",
    "fig.show()"
   ]
  },
  {
   "cell_type": "markdown",
   "id": "3ed90b80-adc2-4f71-b95f-9bdeec1dcc6e",
   "metadata": {},
   "source": [
    "# P/E and forward P/E and other metrics"
   ]
  },
  {
   "cell_type": "code",
   "execution_count": null,
   "id": "2892d89d-556d-419e-af7c-4398831e63c0",
   "metadata": {},
   "outputs": [],
   "source": [
    "import yfinance as yf\n",
    "import pandas as pd\n",
    "\n",
    "with open(\"tickers.txt\", \"r\") as file:\n",
    "    tickers = [line.strip() for line in file]\n",
    "\n",
    "# Initialize an empty list to store data\n",
    "data = []\n",
    "\n",
    "# Collect the P/E and forward P/E for each company\n",
    "for ticker in tickers:\n",
    "    try:\n",
    "        stock = yf.Ticker(ticker)\n",
    "        company_name = stock.info.get(\"longName\", \"N/A\")\n",
    "        pe_ratio = stock.info.get(\"trailingPE\", \"N/A\")\n",
    "        forward_pe = stock.info.get(\"forwardPE\", \"N/A\")\n",
    "        revenue_growth = stock.info.get(\"revenueGrowth\", \"N/A\")\n",
    "        beta = stock.info.get(\"beta\", \"N/A\")\n",
    "        data.append({\"Ticker\": ticker, \n",
    "                     \"Company Name\": company_name, \n",
    "                     \"P/E Ratio\": pe_ratio, \n",
    "                     \"Forward P/E\": forward_pe, \n",
    "                     \"Revenue Growth\": revenue_growth, \n",
    "                     \"Beta\": beta})\n",
    "    except Exception as e:\n",
    "        print(f\"Error fetching data for {ticker}: {e}\")\n",
    "\n",
    "# Load data into a DataFrame\n",
    "df = pd.DataFrame(data)"
   ]
  },
  {
   "cell_type": "code",
   "execution_count": null,
   "id": "ac390bb7-040a-4786-9512-91476ffb27fc",
   "metadata": {},
   "outputs": [],
   "source": [
    "display(df)"
   ]
  },
  {
   "cell_type": "code",
   "execution_count": null,
   "id": "587be435-b0ad-4f11-883f-f7dcac16f2c8",
   "metadata": {},
   "outputs": [],
   "source": []
  }
 ],
 "metadata": {
  "kernelspec": {
   "display_name": "Python 3 (ipykernel)",
   "language": "python",
   "name": "python3"
  },
  "language_info": {
   "codemirror_mode": {
    "name": "ipython",
    "version": 3
   },
   "file_extension": ".py",
   "mimetype": "text/x-python",
   "name": "python",
   "nbconvert_exporter": "python",
   "pygments_lexer": "ipython3",
   "version": "3.11.6"
  }
 },
 "nbformat": 4,
 "nbformat_minor": 5
}
